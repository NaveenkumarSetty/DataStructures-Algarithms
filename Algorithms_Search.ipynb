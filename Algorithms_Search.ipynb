{
  "nbformat": 4,
  "nbformat_minor": 0,
  "metadata": {
    "colab": {
      "name": "Algorithms_Search.ipynb",
      "provenance": [],
      "collapsed_sections": [],
      "authorship_tag": "ABX9TyNLYJMsrGHRotkBxzjRUJBh",
      "include_colab_link": true
    },
    "kernelspec": {
      "name": "python3",
      "display_name": "Python 3"
    },
    "language_info": {
      "name": "python"
    },
    "accelerator": "GPU"
  },
  "cells": [
    {
      "cell_type": "markdown",
      "metadata": {
        "id": "view-in-github",
        "colab_type": "text"
      },
      "source": [
        "<a href=\"https://colab.research.google.com/github/NaveenkumarSetty/DataStructures-Algarithms/blob/main/Algorithms_Search.ipynb\" target=\"_parent\"><img src=\"https://colab.research.google.com/assets/colab-badge.svg\" alt=\"Open In Colab\"/></a>"
      ]
    },
    {
      "cell_type": "markdown",
      "source": [
        "###Linear Search"
      ],
      "metadata": {
        "id": "1SzwTkR0yI4S"
      }
    },
    {
      "cell_type": "code",
      "source": [
        "def search(arr,x):\n",
        "  for i in range(0,len(arr),1):\n",
        "    if arr[i]==x:\n",
        "      return i\n",
        "  return -1\n",
        "\n",
        "\n",
        "\n",
        "# Driver Code\n",
        "arr = [2, 3, 4, 10, 40]\n",
        "x = 40\n",
        "n = len(arr)\n",
        " \n",
        "# Function call\n",
        "result = search(arr, x)\n",
        "if(result == -1):\n",
        "    print(\"Element is not present in array\")\n",
        "else:\n",
        "    print(\"Element is present at index\", result)\n",
        "\n",
        "\n",
        "\n"
      ],
      "metadata": {
        "colab": {
          "base_uri": "https://localhost:8080/"
        },
        "id": "XBS61UJ5yQvT",
        "outputId": "bfb59144-2ab0-4338-ea08-80d5a8526745"
      },
      "execution_count": 3,
      "outputs": [
        {
          "output_type": "stream",
          "name": "stdout",
          "text": [
            "Element is present at index 4\n"
          ]
        }
      ]
    },
    {
      "cell_type": "markdown",
      "source": [
        "### Linear search in worst case Complexity\n"
      ],
      "metadata": {
        "id": "Q9RyyUvpzS1t"
      }
    },
    {
      "cell_type": "code",
      "source": [
        "def search(arr,x):\n",
        "  left=0\n",
        "  l=len(arr)\n",
        "  position=-1\n",
        "  right=l-1\n",
        "  for left in range(0,right,1):\n",
        "      if arr[left]==x:\n",
        "        position=left\n",
        "        print(\"Element found in Array at \", position + 1, \" Position with \", left + 1, \" Attempt\")\n",
        "        break\n",
        "\n",
        "      if arr[right]==x:\n",
        "        position=right\n",
        "        print(\"Element found in Array at \", position + 1,\n",
        "                  \" Position with \", l - right, \" Attempt\")\n",
        "        \n",
        "        break\n",
        "      left+=1\n",
        "      right-=1\n",
        "\n",
        "  if (position == -1):\n",
        "    print(\"Not found in Array with \", left, \" Attempt\")\n",
        " \n",
        "# Driver code\n",
        "arr = [1, 2, 3, 4, 5]\n",
        "search_element = 5\n",
        " \n",
        "# Function call\n",
        "search(arr, search_element)\n",
        " \n",
        "        "
      ],
      "metadata": {
        "colab": {
          "base_uri": "https://localhost:8080/"
        },
        "id": "McCnEXbZzQfw",
        "outputId": "9829d0e0-1193-43d7-b00f-1bb8126ee297"
      },
      "execution_count": 14,
      "outputs": [
        {
          "output_type": "stream",
          "name": "stdout",
          "text": [
            "Element found in Array at  5  Position with  1  Attempt\n"
          ]
        }
      ]
    },
    {
      "cell_type": "markdown",
      "source": [
        "### Binary Search"
      ],
      "metadata": {
        "id": "8Rpw9zWz4jXW"
      }
    },
    {
      "cell_type": "code",
      "source": [
        "# Python3 code to implement iterative Binary\n",
        "# Search.\n",
        "\n",
        "# It returns location of x in given array arr\n",
        "# if present, else returns -1\n",
        "\n",
        "\n",
        "def binarySearch(arr, l, r, x):\n",
        "\n",
        "\twhile l <= r:\n",
        "\n",
        "\t\tmid = l + (r - l) // 2\n",
        "\n",
        "\t\t# Check if x is present at mid\n",
        "\t\tif arr[mid] == x:\n",
        "\t\t\treturn mid\n",
        "\n",
        "\t\t# If x is greater, ignore left half\n",
        "\t\telif arr[mid] < x:\n",
        "\t\t\tl = mid + 1\n",
        "\n",
        "\t\t# If x is smaller, ignore right half\n",
        "\t\telse:\n",
        "\t\t\tr = mid - 1\n",
        "\n",
        "\t# If we reach here, then the element\n",
        "\t# was not present\n",
        "\treturn -1\n",
        "\n",
        "\n",
        "# Driver Code\n",
        "arr = [2, 3, 4, 10, 40]\n",
        "x = 10\n",
        "\n",
        "# Function call\n",
        "result = binarySearch(arr, 0, len(arr)-1, x)\n",
        "\n",
        "if result != -1:\n",
        "\tprint(\"Element is present at index % d\" % result)\n",
        "else:\n",
        "\tprint(\"Element is not present in array\")\n"
      ],
      "metadata": {
        "colab": {
          "base_uri": "https://localhost:8080/"
        },
        "id": "dSnKXXlv4i-R",
        "outputId": "65bdc940-ea15-4fee-bbb5-d4adcd32767c"
      },
      "execution_count": 15,
      "outputs": [
        {
          "output_type": "stream",
          "name": "stdout",
          "text": [
            "Element is present at index  3\n"
          ]
        }
      ]
    },
    {
      "cell_type": "markdown",
      "source": [
        "### Binary Search with recursion"
      ],
      "metadata": {
        "id": "jiYAojW_-b6J"
      }
    },
    {
      "cell_type": "code",
      "source": [
        "# Python3 Program for recursive binary search.\n",
        "\n",
        "# Returns index of x in arr if present, else -1\n",
        "\n",
        "\n",
        "def binarySearch(arr, l, r, x):\n",
        "\n",
        "\t# Check base case\n",
        "\tif r >= l:\n",
        "\n",
        "\t\tmid = l + (r - l) // 2\n",
        "\n",
        "\t\t# If element is present at the middle itself\n",
        "\t\tif arr[mid] == x:\n",
        "\t\t\treturn mid\n",
        "\n",
        "\t\t# If element is smaller than mid, then it\n",
        "\t\t# can only be present in left subarray\n",
        "\t\telif arr[mid] > x:\n",
        "\t\t\treturn binarySearch(arr, l, mid-1, x)\n",
        "\n",
        "\t\t# Else the element can only be present\n",
        "\t\t# in right subarray\n",
        "\t\telse:\n",
        "\t\t\treturn binarySearch(arr, mid + 1, r, x)\n",
        "\n",
        "\telse:\n",
        "\t\t# Element is not present in the array\n",
        "\t\treturn -1\n",
        "\n",
        "\n",
        "# Driver Code\n",
        "arr = [2, 3, 4, 10, 40]\n",
        "x = 10\n",
        "\n",
        "# Function call\n",
        "result = binarySearch(arr, 0, len(arr)-1, x)\n",
        "\n",
        "if result != -1:\n",
        "\tprint(\"Element is present at index % d\" % result)\n",
        "else:\n",
        "\tprint(\"Element is not present in array\")\n"
      ],
      "metadata": {
        "colab": {
          "base_uri": "https://localhost:8080/"
        },
        "id": "vdVz2TOb-ZTZ",
        "outputId": "f040e4c3-8aaa-4714-ab30-0e048ca561f1"
      },
      "execution_count": 16,
      "outputs": [
        {
          "output_type": "stream",
          "name": "stdout",
          "text": [
            "Element is present at index  3\n"
          ]
        }
      ]
    }
  ]
}